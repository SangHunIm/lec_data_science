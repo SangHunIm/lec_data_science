{
 "cells": [
  {
   "cell_type": "markdown",
   "metadata": {},
   "source": [
    "# 데이터과학 HW 1\n",
    "## 딥러닝과 파이토치 소개(강의 교재 1장)"
   ]
  },
  {
   "cell_type": "markdown",
   "metadata": {},
   "source": [
    "* 딥러닝 개념\n",
    "    * 딥러닝은 AI를 구현하는 방법 중 하나로 머신러닝 방법에 속한다\n",
    "    * 기존 hand-crafted feature extraction에 의존하던 머신러닝에서 발전하여\n",
    "        * 원본 데이터로부터 자동적인 feature extraction이 가능하며\n",
    "        * 저수준에서 고수준의 feature들이 자동으로 추출된다."
   ]
  },
  {
   "cell_type": "markdown",
   "metadata": {},
   "source": [
    "* 학습(training)\n",
    "    * 딥러닝 모델의 학습(혹은 훈련)은 주어진 데이터를 통해 기대한 값(ground truth)과 실제 모델 출력(prediction)의 차이를 줄이는 것을 의미하며, 최종적으로 훈련 중 입력되지 않는 데이터에 대해서도 낮은 차이를 보이도록 하는 것이다."
   ]
  },
  {
   "cell_type": "markdown",
   "metadata": {},
   "source": [
    "* 파이토치(pytorch)\n",
    "    * 파이토치(pytorch)는 딥러닝 프로젝트를 위한 파이썬 라이브러리\n",
    "    * 텐서(tensor)는 파이토치에서 사용되는 핵심 데이터 구조체로 전용 하드웨어(GPU, TPU 등)을 이용해 빠른 연산을 지원한다.\n",
    "    * 특히 신경망 아키텍처를 설계하고, 개별 혹은 분산 컴퓨팅 자원을 활용하이 용이하다"
   ]
  },
  {
   "attachments": {},
   "cell_type": "markdown",
   "metadata": {},
   "source": [
    "* 파이토치의 장점\n",
    "    * 단순함 : 학습, 활용, 확장, 디버깅 면에서 모두 수월함\n",
    "    * 전용 하드웨어 : GPU, TPU 등의 tensor 연산 전용 하드웨어의 원활한 지원\n",
    "    * 제품화의 용이 : 연구 작업뿐 아니라 추론 가능한 모델의 배포에도 용이\n",
    "    * 생태계 활성화 : 많은 최신 딥러닝 연구는 파이토치를 기반해 연구, 발표되고 있으며 이는 top-tier conference의 논문들이 파이토치를 통해 연구, 실험 됨을 통해 알 수 있으며 코드 공개 또한 활발히 이루어지고 있음"
   ]
  },
  {
   "cell_type": "markdown",
   "metadata": {},
   "source": [
    "## 연습문제"
   ]
  },
  {
   "cell_type": "code",
   "execution_count": 5,
   "metadata": {},
   "outputs": [
    {
     "name": "stdout",
     "output_type": "stream",
     "text": [
      "PyThon Version: 3.9.12 (main, Apr  5 2022, 06:56:58) \n",
      "[GCC 7.5.0]\n",
      "PyTorch Version: 1.11.0\n",
      "Cuda is available?: True\n"
     ]
    }
   ],
   "source": [
    "import sys; print(f\"PyThon Version: {sys.version}\")\n",
    "import torch; print(f\"PyTorch Version: {torch.__version__}\")\n",
    "print(f\"Cuda is available?: {torch.cuda.is_available()}\")"
   ]
  }
 ],
 "metadata": {
  "kernelspec": {
   "display_name": "htc",
   "language": "python",
   "name": "python3"
  },
  "language_info": {
   "codemirror_mode": {
    "name": "ipython",
    "version": 3
   },
   "file_extension": ".py",
   "mimetype": "text/x-python",
   "name": "python",
   "nbconvert_exporter": "python",
   "pygments_lexer": "ipython3",
   "version": "3.9.12"
  },
  "orig_nbformat": 4,
  "vscode": {
   "interpreter": {
    "hash": "0bba74fe5d956fb4bd0ffa7043615c7794aedde7cb00caf52e187f71d59004e4"
   }
  }
 },
 "nbformat": 4,
 "nbformat_minor": 2
}
